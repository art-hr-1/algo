{
 "cells": [
  {
   "cell_type": "code",
   "execution_count": null,
   "metadata": {},
   "outputs": [],
   "source": [
    "import asyncio\n",
    "import sys\n",
    "\n",
    "barber_lock = asyncio.Lock()\n",
    "queue = asyncio.Queue(sys.maxsize)\n",
    "\n",
    "\n",
    "async def barber():\n",
    "    for i in range(1):\n",
    "        await queue.get()\n",
    "        print(f\"begin barber\")\n",
    "        await asyncio.sleep(0.01)\n",
    "        queue.task_done()\n",
    "        print(f\"end barber\")\n",
    "\n",
    "\n",
    "async def customer(x: int, delay: float):\n",
    "    for i in range(3):\n",
    "        await asyncio.sleep(delay)\n",
    "        await queue.put(x)\n",
    "        print(f\"end {x}\")\n",
    "\n",
    "\n",
    "tasks = [\n",
    "    asyncio.create_task(fn)\n",
    "    for fn in [\n",
    "        barber(),\n",
    "        customer(1, 0.03),\n",
    "        asyncio.sleep(0.05),\n",
    "        customer(2, 0.02),\n",
    "        customer(3, 0.01),\n",
    "    ]\n",
    "]\n",
    "\n",
    "await asyncio.gather(*tasks)"
   ]
  }
 ],
 "metadata": {
  "kernelspec": {
   "display_name": "Python 3",
   "language": "python",
   "name": "python3"
  },
  "language_info": {
   "codemirror_mode": {
    "name": "ipython",
    "version": 3
   },
   "file_extension": ".py",
   "mimetype": "text/x-python",
   "name": "python",
   "nbconvert_exporter": "python",
   "pygments_lexer": "ipython3",
   "version": "3.12.1"
  }
 },
 "nbformat": 4,
 "nbformat_minor": 2
}
