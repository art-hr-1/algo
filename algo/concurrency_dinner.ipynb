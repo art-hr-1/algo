{
 "cells": [
  {
   "cell_type": "code",
   "execution_count": null,
   "metadata": {},
   "outputs": [],
   "source": [
    "import asyncio\n",
    "import random\n",
    "\n",
    "forks = [asyncio.Semaphore() for _ in range(5)]\n",
    "\n",
    "async def ph_loop(n: int, start_fork, end_fork):\n",
    "  # sleep_time = random.choice(range(10)) / 10\n",
    "  sleep_time = 0\n",
    "  # print(f\"{n} want eating\")\n",
    "\n",
    "  async with forks[start_fork]:\n",
    "    print(f\"{n} take {start_fork}\")\n",
    "    # cant check deadlock without this sleep\n",
    "    await asyncio.sleep(sleep_time)\n",
    "    async with forks[end_fork]:\n",
    "      print(f\"{n} take {end_fork}\")\n",
    "      # print(f\"{n} eating\")\n",
    "      await asyncio.sleep(sleep_time)\n",
    "\n",
    "  # print(f\"{n} end eating\")\n",
    "\n",
    "\n",
    "for i in range(10):\n",
    "  await asyncio.gather(\n",
    "    asyncio.create_task(ph_loop(0, 0, 1)),\n",
    "\n",
    "    # asyncio.create_task(ph_loop(1, 0, 1)),\n",
    "    # deadlock\n",
    "    # asyncio.create_task(ph_loop(1, 1, 0)),\n",
    "\n",
    "    asyncio.create_task(ph_loop(1, 1, 2)),\n",
    "    asyncio.create_task(ph_loop(2, 2, 3)),\n",
    "    asyncio.create_task(ph_loop(3, 3, 4)),\n",
    "    asyncio.create_task(ph_loop(4, 0, 4)),\n",
    "    # deadlock\n",
    "    # asyncio.create_task(ph_loop(4, 4, 0)),\n",
    "  )\n",
    "  "
   ]
  }
 ],
 "metadata": {
  "kernelspec": {
   "display_name": "Python 3",
   "language": "python",
   "name": "python3"
  },
  "language_info": {
   "codemirror_mode": {
    "name": "ipython",
    "version": 3
   },
   "file_extension": ".py",
   "mimetype": "text/x-python",
   "name": "python",
   "nbconvert_exporter": "python",
   "pygments_lexer": "ipython3",
   "version": "3.12.1"
  }
 },
 "nbformat": 4,
 "nbformat_minor": 2
}
