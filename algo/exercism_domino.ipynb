{
 "cells": [
  {
   "cell_type": "code",
   "execution_count": null,
   "metadata": {},
   "outputs": [
    {
     "name": "stdout",
     "output_type": "stream",
     "text": [
      "[1, 2] | 0 | [[2, 3], [1, 3]] | [2, 1]\n",
      "[2, 3] | 0 | [[1, 3]] | [3, 2]\n",
      "[1, 3] | 0 | [] | [3, 1]\n"
     ]
    },
    {
     "data": {
      "text/plain": [
       "[[3, 1], [1, 2], [2, 3]]"
      ]
     },
     "metadata": {},
     "output_type": "display_data"
    }
   ],
   "source": [
    "# https://exercism.org/tracks/python/exercises/dominoes/solutions/lorimer1\n",
    "\n",
    "def can_chain(dominoes):\n",
    "    return next(chain(dominoes, []), None if dominoes else [])\n",
    "\n",
    "\n",
    "def chain(tiles, ordered):\n",
    "    if not tiles and ordered and ordered[0][0] == ordered[-1][1]:\n",
    "        yield ordered\n",
    "\n",
    "    for t in tiles:\n",
    "        idx = tiles.index(t)\n",
    "        rest_tiles = tiles[:idx] + tiles[idx + 1 :]\n",
    "        rev = t[::-1]\n",
    "\n",
    "        print(f\"{t} | {idx} | {rest_tiles} | {rev}\")\n",
    "\n",
    "        if not ordered:\n",
    "            yield from chain(rest_tiles, [t])\n",
    "        elif t[0] == ordered[-1][1]:\n",
    "            yield from chain(rest_tiles, ordered + [t])\n",
    "        elif t[0] == ordered[0][0]:\n",
    "            yield from chain(rest_tiles, [rev] + ordered)\n",
    "        elif t[1] == ordered[0][0]:\n",
    "            yield from chain(rest_tiles, [t] + ordered)\n",
    "        elif t[1] == ordered[-1][1]:\n",
    "            yield from chain(rest_tiles, ordered + [rev])\n",
    "\n",
    "\n",
    "can_chain([[1, 2], [2, 3], [1, 3]])"
   ]
  },
  {
   "cell_type": "markdown",
   "metadata": {},
   "source": [
    "elixir-like lang\n",
    "\n",
    "``` python\n",
    "defn chain\n",
    "    [{t1, t2}, *ttail],\n",
    "    [{os1, os2}, *omiddle, {oe1, oe2}] =\n",
    "\n",
    "    neworder = \n",
    "        cond \n",
    "            t2 == os1 -> {t1, t2} ++ ordered\n",
    "            t1 == os1 -> {t2, t1} ++ ordered\n",
    "            t1 == os1 -> ordered ++ {t1, t2}\n",
    "            t2 == os1 -> ordered ++ {t2, t1}\n",
    "    neworder = \n",
    "        cond \n",
    "            tiles[2] == ordered[0][0] -> {t1, t2} ++ ordered\n",
    "            tiles[1] == ordered[0][0] -> {t2, t1} ++ ordered\n",
    "            tiles[1] == ordered[0][0] -> ordered ++ {t1, t2}\n",
    "            tiles[2] == ordered[0][0] -> ordered ++ {t2, t1}\n",
    "    neworder =\n",
    "        if t2 == os1 -> {t1, t2} ++ ordered\n",
    "        else if t1 == os1 -> {t2, t1} ++ ordered\n",
    "        else if t1 == os1 -> ordered ++ {t1, t2}\n",
    "        else if t2 == os1 -> ordered ++ {t2, t1}\n",
    "    chain ttile, neworder\n",
    "\n",
    "```\n",
    "clojure\n",
    "\n",
    "```clojure\n",
    "(defn chain [tiles ordered])\n",
    "```"
   ]
  }
 ],
 "metadata": {
  "language_info": {
   "name": "python"
  }
 },
 "nbformat": 4,
 "nbformat_minor": 2
}
