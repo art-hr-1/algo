{
 "cells": [
  {
   "cell_type": "code",
   "execution_count": 74,
   "metadata": {},
   "outputs": [
    {
     "name": "stdout",
     "output_type": "stream",
     "text": [
      "resz: [2, [3, [4, [5, [6, None]]]]]\n"
     ]
    }
   ],
   "source": [
    "def cons(a, b): return [a,b]\n",
    "def car(l): return (l or [None])[0]\n",
    "def cdr(l): return (l or [None, None])[1]\n",
    "\n",
    "# [1, [2, [3, [4, [5, None]]]]]\n",
    "def create_llist(count, res = None):\n",
    "    if count == 0: return res\n",
    "    new_res = [count, res]\n",
    "    return create_llist(count - 1, new_res)\n",
    "\n",
    "llist = create_llist(5)\n",
    "# print(\"llist:\", llist)\n",
    "\n",
    "def map_accumulator(f, l):\n",
    "    def go(l, a):\n",
    "        if l is None: return a\n",
    "        else: return go(cdr(l), cons(f(car(l)), a))\n",
    "        # else: return go(cdr(l), cons(a, f(car(l))))\n",
    "    return go(l, [])\n",
    "\n",
    "rest = map_accumulator(lambda a: a + 1, llist)\n",
    "# print(\"rest:\", rest)\n",
    "\n",
    "def map_continuation(f, l):\n",
    "    def go(l, cont):\n",
    "        # print(l)\n",
    "        if l is None: return cont(None)\n",
    "        return go(cdr(l), lambda a: cont(cons(f(car(l)), a)))\n",
    "    return go(l, lambda a: a)\n",
    "\n",
    "resc = map_continuation(lambda a: a + 1, llist)\n",
    "# print(\"resc:\", resc)\n",
    "\n",
    "def map_continuation_imperative(f, l):\n",
    "    def create_cont(cont, l): \n",
    "        return lambda a: cont(cons(f(car(l)), a))\n",
    "    \n",
    "    cont = lambda a: a\n",
    "\n",
    "    while l is not None:\n",
    "        # print(l)\n",
    "        cont = create_cont(cont, l)\n",
    "        l = cdr(l)\n",
    "    return cont(None)\n",
    "\n",
    "resz = map_continuation_imperative(lambda a: a + 1, llist)\n",
    "print(\"resz:\", resz)"
   ]
  }
 ],
 "metadata": {
  "kernelspec": {
   "display_name": "Python 3",
   "language": "python",
   "name": "python3"
  },
  "language_info": {
   "codemirror_mode": {
    "name": "ipython",
    "version": 3
   },
   "file_extension": ".py",
   "mimetype": "text/x-python",
   "name": "python",
   "nbconvert_exporter": "python",
   "pygments_lexer": "ipython3",
   "version": "3.12.4"
  }
 },
 "nbformat": 4,
 "nbformat_minor": 2
}
