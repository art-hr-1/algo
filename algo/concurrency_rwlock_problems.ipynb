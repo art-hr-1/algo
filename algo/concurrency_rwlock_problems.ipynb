{
 "cells": [
  {
   "cell_type": "markdown",
   "metadata": {},
   "source": [
    "https://en.wikipedia.org/wiki/Readers%E2%80%93writers_problem"
   ]
  },
  {
   "cell_type": "code",
   "execution_count": null,
   "metadata": {},
   "outputs": [],
   "source": [
    "import asyncio\n",
    "\n",
    "r_resource = asyncio.Lock()\n",
    "r_time = .5\n",
    "\n",
    "\n",
    "async def reader(index):\n",
    "    async with r_resource:\n",
    "        await asyncio.sleep(r_time)\n",
    "        print(f\"reader {index}\")\n",
    "        return index\n",
    "\n",
    "\n",
    "async def writer(index):\n",
    "    async with r_resource:\n",
    "        await asyncio.sleep(r_time)\n",
    "        print(f\"writer {index}\")\n",
    "        return index\n",
    "\n",
    "reader_tasks = [\n",
    "    asyncio.create_task(reader(x))\n",
    "    for x in range(10)\n",
    "]\n",
    "\n",
    "writer_tasks = [\n",
    "    asyncio.create_task(writer(x))\n",
    "    for x in range(1)\n",
    "]\n",
    "\n",
    "await asyncio.gather(*reader_tasks, *writer_tasks)"
   ]
  },
  {
   "cell_type": "markdown",
   "metadata": {},
   "source": [
    "## First readers–writers problem"
   ]
  },
  {
   "cell_type": "code",
   "execution_count": null,
   "metadata": {},
   "outputs": [],
   "source": [
    "import asyncio\n",
    "\n",
    "resource = asyncio.Lock()\n",
    "r_resource = asyncio.Lock()\n",
    "r_count = 0\n",
    "r_time = .5\n",
    "w_time = r_time * 2\n",
    "\n",
    "\n",
    "async def reader(index):\n",
    "    global r_count\n",
    "    # print(f\"begin reader {index}\")\n",
    "    # await asyncio.sleep(r_time)\n",
    "    # print(f\"try start reader {index}\")\n",
    "    async with r_resource:\n",
    "        r_count = r_count + 1\n",
    "        if r_count == 1:\n",
    "            # print(f\"resource acquire start reader {index}\")\n",
    "            await resource.acquire()\n",
    "            print(f\"resource acquire end reader {index}\")\n",
    "\n",
    "    print(f\"start do reader {index}\")\n",
    "    await asyncio.sleep(r_time)\n",
    "    print(f\"end do reader {index}\")\n",
    "\n",
    "    async with r_resource:\n",
    "        r_count = r_count - 1\n",
    "        if r_count == 0:\n",
    "            # print(f\"resource release start reader {index}\")\n",
    "            resource.release()\n",
    "            print(f\"resource release end reader {index}\")\n",
    "        print(f\"end reader {index}\")\n",
    "\n",
    "\n",
    "async def writer(index):\n",
    "    # print(f\"begin writer {index}\")\n",
    "    # await asyncio.sleep(w_time)\n",
    "    print(f\"try start writer {index}\")\n",
    "    async with resource:\n",
    "        print(f\"start writer {index}\")\n",
    "        await asyncio.sleep(w_time)\n",
    "        print(f\"end writer {index}\")\n",
    "        return index\n",
    "\n",
    "_ = asyncio.gather(\n",
    "    *[\n",
    "        asyncio.create_task(x)\n",
    "        for x in [\n",
    "            reader(0),\n",
    "            reader(1),\n",
    "            writer(0),\n",
    "            writer(1),\n",
    "            reader(2),\n",
    "            reader(3),\n",
    "            reader(4),\n",
    "        ]\n",
    "    ]\n",
    ")"
   ]
  },
  {
   "cell_type": "markdown",
   "metadata": {},
   "source": [
    "## Third readers–writers problem"
   ]
  }
 ],
 "metadata": {
  "kernelspec": {
   "display_name": "Python 3",
   "language": "python",
   "name": "python3"
  },
  "language_info": {
   "codemirror_mode": {
    "name": "ipython",
    "version": 3
   },
   "file_extension": ".py",
   "mimetype": "text/x-python",
   "name": "python",
   "nbconvert_exporter": "python",
   "pygments_lexer": "ipython3",
   "version": "3.12.1"
  }
 },
 "nbformat": 4,
 "nbformat_minor": 2
}
